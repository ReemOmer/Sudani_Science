{
 "cells": [
  {
   "cell_type": "markdown",
   "metadata": {},
   "source": [
    "# LA for ML #3"
   ]
  },
  {
   "cell_type": "code",
   "execution_count": 1,
   "metadata": {},
   "outputs": [
    {
     "name": "stdout",
     "output_type": "stream",
     "text": [
      "[1 2 3]\n",
      "(3,)\n",
      "int64\n"
     ]
    }
   ],
   "source": [
    "# calling array function from numpy\n",
    "from numpy import array\n",
    "\n",
    "# defining array with three elements\n",
    "a = array([1,2,3])\n",
    "\n",
    "# printing what's a contains\n",
    "print(a)\n",
    "\n",
    "# to know how many rows and columns in a\n",
    "print(a.shape)\n",
    "\n",
    "# to know the datatype of a's elements\n",
    "print(a.dtype)"
   ]
  },
  {
   "cell_type": "code",
   "execution_count": 7,
   "metadata": {},
   "outputs": [
    {
     "name": "stdout",
     "output_type": "stream",
     "text": [
      "[[6.92832276e-310 4.65611972e-310 0.00000000e+000]\n",
      " [0.00000000e+000 0.00000000e+000 0.00000000e+000]\n",
      " [8.36329978e-299 1.09921079e-311 3.95252517e-322]]\n"
     ]
    }
   ],
   "source": [
    "# calling empty function from numpy\n",
    "from numpy import empty\n",
    "\n",
    "# create an array that has 3 rows and columns\n",
    "# the numbers will be assigned randomly\n",
    "# everytime that your run this you will get different result\n",
    "a = empty([3,3])\n",
    "\n",
    "#print a's elements\n",
    "print(a)"
   ]
  },
  {
   "cell_type": "code",
   "execution_count": 9,
   "metadata": {},
   "outputs": [
    {
     "name": "stdout",
     "output_type": "stream",
     "text": [
      "[0. 0. 0.]\n"
     ]
    }
   ],
   "source": [
    "# calling zeros function from numpy\n",
    "from numpy import zeros\n",
    "\n",
    "# create an array with one row and three columns \n",
    "# all its elements are zeros\n",
    "a = zeros([3])\n",
    "\n",
    "# printing a's elements\n",
    "print(a)"
   ]
  },
  {
   "cell_type": "code",
   "execution_count": 11,
   "metadata": {},
   "outputs": [
    {
     "name": "stdout",
     "output_type": "stream",
     "text": [
      "[[1.]\n",
      " [1.]\n",
      " [1.]\n",
      " [1.]\n",
      " [1.]]\n"
     ]
    }
   ],
   "source": [
    "# calling ones function from numpy\n",
    "from numpy import ones\n",
    "\n",
    "# create an array with five rows and one column\n",
    "# all its elements are ones\n",
    "a = ones([5,1])\n",
    "\n",
    "# printing a's elements\n",
    "print(a)"
   ]
  },
  {
   "cell_type": "code",
   "execution_count": 14,
   "metadata": {},
   "outputs": [
    {
     "name": "stdout",
     "output_type": "stream",
     "text": [
      "[1 2 3]\n",
      "[4 5 6]\n",
      "[[1 2 3]\n",
      " [4 5 6]]\n",
      "(2, 3)\n"
     ]
    }
   ],
   "source": [
    "# calling array and vertical stack functions from numpy\n",
    "from numpy import array\n",
    "from numpy import vstack\n",
    "\n",
    "# creating a1 array with three elements\n",
    "a1 = array([1,2,3])\n",
    "print(a1)\n",
    "\n",
    "# creating a2 array with different three elements than a1\n",
    "a2 = array([4,5,6])\n",
    "print(a2)\n",
    "\n",
    "# create new array a3 that has a1 as the first row and a2 as the second\n",
    "a3 = vstack((a1,a2))\n",
    "print(a3)\n",
    "\n",
    "# printing a3 rows and columns\n",
    "print(a3.shape)"
   ]
  },
  {
   "cell_type": "code",
   "execution_count": 15,
   "metadata": {},
   "outputs": [
    {
     "name": "stdout",
     "output_type": "stream",
     "text": [
      "[1 2 3]\n",
      "[4 5 6]\n",
      "[1 2 3 4 5 6]\n",
      "(6,)\n"
     ]
    }
   ],
   "source": [
    "# calling array and horizontal stack functions from numpy\n",
    "from numpy import array\n",
    "from numpy import hstack\n",
    "\n",
    "# creating a1 array with three elements\n",
    "a1 = array([1,2,3])\n",
    "print(a1)\n",
    "\n",
    "# creating a2 array with different three elements than a1\n",
    "a2 = array([4,5,6])\n",
    "print(a2)\n",
    "\n",
    "# create new array a3 cotains a1 elements with a2 attached to the right side\n",
    "a3 = hstack((a1,a2))\n",
    "print(a3)\n",
    "\n",
    "# printing a3 rows and columns\n",
    "print(a3.shape)"
   ]
  }
 ],
 "metadata": {
  "kernelspec": {
   "display_name": "Python 3",
   "language": "python",
   "name": "python3"
  },
  "language_info": {
   "codemirror_mode": {
    "name": "ipython",
    "version": 3
   },
   "file_extension": ".py",
   "mimetype": "text/x-python",
   "name": "python",
   "nbconvert_exporter": "python",
   "pygments_lexer": "ipython3",
   "version": "3.6.4"
  }
 },
 "nbformat": 4,
 "nbformat_minor": 2
}
