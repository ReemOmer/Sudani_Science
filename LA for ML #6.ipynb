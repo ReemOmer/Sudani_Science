{
 "cells": [
  {
   "cell_type": "markdown",
   "metadata": {},
   "source": [
    "# LA for ML #6"
   ]
  },
  {
   "cell_type": "code",
   "execution_count": 4,
   "metadata": {},
   "outputs": [
    {
     "name": "stdout",
     "output_type": "stream",
     "text": [
      "[2 4 6]\n",
      "[0 0 0]\n",
      "[1 4 9]\n",
      "[1. 1. 1.]\n"
     ]
    }
   ],
   "source": [
    "# call array from numpy library\n",
    "from numpy import array\n",
    "\n",
    "# define 2 vectors a and b each has 1 row and 3 columns\n",
    "a = array([1, 2, 3])\n",
    "b = array([1, 2, 3])\n",
    "\n",
    "# adding 2 vectors\n",
    "c = a + b\n",
    "print(c)\n",
    "\n",
    "# subtracting 2 vectors\n",
    "c = a - b\n",
    "print(c)\n",
    "\n",
    "# multipling 2 vectors\n",
    "c = a * b\n",
    "print(c)\n",
    "\n",
    "# divide a vector by another one\n",
    "c = a / b\n",
    "print(c)\n",
    "\n",
    "# please notice that these vectors have the same dimensions"
   ]
  },
  {
   "cell_type": "code",
   "execution_count": 5,
   "metadata": {},
   "outputs": [
    {
     "name": "stdout",
     "output_type": "stream",
     "text": [
      "14\n"
     ]
    }
   ],
   "source": [
    "# call array from numpy\n",
    "from numpy import array\n",
    "\n",
    "# define 2 vectors a and b\n",
    "a = array([1,2,3])\n",
    "b = array([1,2,3])\n",
    "\n",
    "# find the dot product of a and b (C = 1*1+2*2+3*3), display the output\n",
    "C = a.dot(b)\n",
    "print(C)"
   ]
  },
  {
   "cell_type": "code",
   "execution_count": 6,
   "metadata": {},
   "outputs": [
    {
     "name": "stdout",
     "output_type": "stream",
     "text": [
      "[0.5 1.  1.5]\n"
     ]
    }
   ],
   "source": [
    "# call array from numpy\n",
    "from numpy import array\n",
    "\n",
    "# define vector a with 1 row and 3 columns\n",
    "a = array([1,2,3])\n",
    "\n",
    "# define scalar s\n",
    "s = 0.5\n",
    "\n",
    "# multiply scalar s by vector a, display the output\n",
    "C = s*a\n",
    "print(C)"
   ]
  },
  {
   "cell_type": "code",
   "execution_count": 7,
   "metadata": {},
   "outputs": [
    {
     "name": "stdout",
     "output_type": "stream",
     "text": [
      "6.0 3.7416573867739413 3.0\n"
     ]
    }
   ],
   "source": [
    "# call positive infinity value from mathematics library\n",
    "from math import inf\n",
    "\n",
    "# call array from numpy\n",
    "from numpy import array\n",
    "\n",
    "# call norm function (used to find the length of the the vector) from linear algebra library\n",
    "from numpy.linalg import norm\n",
    "\n",
    "# define vector a with 1 row and 3 columns\n",
    "a = array([1,2,3])\n",
    "\n",
    "# find vector's length using absolute function\n",
    "# l1 = |1|+|2|+|3|\n",
    "l1=norm(a,1)\n",
    "\n",
    "# find vector's length using square function\n",
    "# l2 = sqr (1**2 + 2**2 + 3**2)\n",
    "l2=norm(a,2)\n",
    "\n",
    "# find the vector's length by comparing the elements\n",
    "# maxnorm = max (|1|, |2|, |3|)\n",
    "maxnorm=norm(a,inf)\n",
    "\n",
    "# display vector's length results\n",
    "print(l1,l2,maxnorm)"
   ]
  }
 ],
 "metadata": {
  "kernelspec": {
   "display_name": "Python 3",
   "language": "python",
   "name": "python3"
  },
  "language_info": {
   "codemirror_mode": {
    "name": "ipython",
    "version": 3
   },
   "file_extension": ".py",
   "mimetype": "text/x-python",
   "name": "python",
   "nbconvert_exporter": "python",
   "pygments_lexer": "ipython3",
   "version": "3.6.4"
  }
 },
 "nbformat": 4,
 "nbformat_minor": 2
}
