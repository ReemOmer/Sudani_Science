{
 "cells": [
  {
   "cell_type": "markdown",
   "metadata": {},
   "source": [
    "# LA for ML #4"
   ]
  },
  {
   "cell_type": "code",
   "execution_count": 1,
   "metadata": {},
   "outputs": [
    {
     "name": "stdout",
     "output_type": "stream",
     "text": [
      "[11 22 33 44 55]\n"
     ]
    }
   ],
   "source": [
    "# calling array function from numpy\n",
    "from numpy import array\n",
    "\n",
    "# defining list with five elements\n",
    "data = [11, 22, 33, 44, 55]\n",
    "\n",
    "# convert the list to array\n",
    "data = array(data)\n",
    "\n",
    "# print data's elements\n",
    "print(data)"
   ]
  },
  {
   "cell_type": "code",
   "execution_count": 2,
   "metadata": {},
   "outputs": [
    {
     "name": "stdout",
     "output_type": "stream",
     "text": [
      "11\n",
      "55\n"
     ]
    }
   ],
   "source": [
    "# print data's first element\n",
    "print(data[0])\n",
    "\n",
    "# print data's fifth element\n",
    "print(data[4])"
   ]
  },
  {
   "cell_type": "code",
   "execution_count": 5,
   "metadata": {},
   "outputs": [
    {
     "name": "stdout",
     "output_type": "stream",
     "text": [
      "22\n"
     ]
    }
   ],
   "source": [
    "# create data array with three rows and two columns\n",
    "data = array([ [11, 22],[33, 44],[55, 66]  ])\n",
    "\n",
    "# print the element on the first row and the second column\n",
    "print(data[0,1])"
   ]
  },
  {
   "cell_type": "code",
   "execution_count": 7,
   "metadata": {},
   "outputs": [
    {
     "name": "stdout",
     "output_type": "stream",
     "text": [
      "[33 44]\n"
     ]
    }
   ],
   "source": [
    "# print the second row in data array\n",
    "print(data[1])"
   ]
  },
  {
   "cell_type": "code",
   "execution_count": 11,
   "metadata": {},
   "outputs": [
    {
     "name": "stdout",
     "output_type": "stream",
     "text": [
      "['orange', 'apple']\n"
     ]
    }
   ],
   "source": [
    "# create fruits array that has five string elements\n",
    "Fruits = [\"banana\",\"orange\",\"apple\",\"strawberry\",\"watermelon\"]\n",
    "\n",
    "# print from the second and the third elements\n",
    "print(Fruits[1:3])"
   ]
  },
  {
   "cell_type": "code",
   "execution_count": 12,
   "metadata": {},
   "outputs": [
    {
     "name": "stdout",
     "output_type": "stream",
     "text": [
      "['strawberry', 'watermelon']\n"
     ]
    }
   ],
   "source": [
    "# print the last two elements\n",
    "print(Fruits[-2:])"
   ]
  },
  {
   "cell_type": "code",
   "execution_count": 14,
   "metadata": {},
   "outputs": [
    {
     "name": "stdout",
     "output_type": "stream",
     "text": [
      "Breakfast:1  Lunch:1  Supper:0 \n"
     ]
    }
   ],
   "source": [
    "# create three by three array\n",
    "data = array([ [1,1,0], [1,0,1], [0,1,1] ])\n",
    "\n",
    "# print the first three row elements alongside with breakfast, lunch and supper respectively\n",
    "print('Breakfast:%d ' % data[0][0], 'Lunch:%d ' % data[0][1], 'Supper:%d ' % data[0][2])"
   ]
  },
  {
   "cell_type": "code",
   "execution_count": 20,
   "metadata": {},
   "outputs": [
    {
     "name": "stdout",
     "output_type": "stream",
     "text": [
      " Rows: 2 \n",
      " Cols: 3 \n"
     ]
    }
   ],
   "source": [
    "# create data array with two rows and three columns\n",
    "data = array([[1,2,3],[4,5,6]])\n",
    "\n",
    "# display data's rows\n",
    "print(' Rows: %d ' % data.shape[0])\n",
    "\n",
    "#display data's columns\n",
    "print(' Cols: %d ' % data.shape[1])"
   ]
  },
  {
   "cell_type": "code",
   "execution_count": 16,
   "metadata": {},
   "outputs": [
    {
     "name": "stdout",
     "output_type": "stream",
     "text": [
      "(3,)\n",
      "(3, 1)\n"
     ]
    }
   ],
   "source": [
    "# calling array function from numpy\n",
    "from numpy import array\n",
    "\n",
    "# define array data with three elements in a row\n",
    "data = array([1,2,3])\n",
    "\n",
    "# print the number of rows and columns in the array\n",
    "print(data.shape)\n",
    "\n",
    "# reshape data to have the same number of rows and one column\n",
    "data = data.reshape(data.shape[0],1)\n",
    "\n",
    "# display data number of rows and columns \n",
    "print(data.shape)"
   ]
  },
  {
   "cell_type": "code",
   "execution_count": 19,
   "metadata": {},
   "outputs": [
    {
     "name": "stdout",
     "output_type": "stream",
     "text": [
      "(3, 2)\n",
      "(3, 2, 1)\n"
     ]
    }
   ],
   "source": [
    "# calling array function from numpy\n",
    "from numpy import array\n",
    "\n",
    "# define list data with three rows and two columns\n",
    "data = [ [1,2],[2,3],[3,4] ]\n",
    "\n",
    "# conver the list to array\n",
    "data = array(data)\n",
    "\n",
    "# display the number of rows and columns in data\n",
    "print(data.shape)\n",
    "\n",
    "# reshape data to have the third dimension that takes every element as a seperate array\n",
    "data = data.reshape(data.shape[0],data.shape[1],1)\n",
    "\n",
    "# display the height, width and the depth of the array\n",
    "print(data.shape)"
   ]
  }
 ],
 "metadata": {
  "kernelspec": {
   "display_name": "Python 3",
   "language": "python",
   "name": "python3"
  },
  "language_info": {
   "codemirror_mode": {
    "name": "ipython",
    "version": 3
   },
   "file_extension": ".py",
   "mimetype": "text/x-python",
   "name": "python",
   "nbconvert_exporter": "python",
   "pygments_lexer": "ipython3",
   "version": "3.6.4"
  }
 },
 "nbformat": 4,
 "nbformat_minor": 2
}
